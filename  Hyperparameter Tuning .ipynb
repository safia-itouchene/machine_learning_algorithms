{
 "cells": [
  {
   "cell_type": "code",
   "execution_count": 30,
   "id": "09c12e47-4607-4341-9c19-807e2cf2cddc",
   "metadata": {},
   "outputs": [],
   "source": [
    "from sklearn.datasets        import load_iris\n",
    "from sklearn.neighbors       import KNeighborsClassifier\n",
    "from sklearn.linear_model    import LogisticRegression\n",
    "from sklearn.tree            import DecisionTreeClassifier\n",
    "from sklearn.svm             import SVC\n",
    "from sklearn.metrics         import accuracy_score\n",
    "from sklearn.model_selection import train_test_split , GridSearchCV\n",
    "from sklearn.preprocessing   import MinMaxScaler"
   ]
  },
  {
   "cell_type": "code",
   "execution_count": 76,
   "id": "731bc3df-1806-41f2-824a-823bc8655f10",
   "metadata": {},
   "outputs": [],
   "source": [
    "X,y = load_iris(return_X_y = True)\n",
    "X_train,X_test,y_train,y_test = train_test_split(X,y,test_size=0.25,stratify=y)\n",
    "min_max_scaler = MinMaxScaler()\n",
    "X_train_norm = min_max_scaler.fit_transform(X_train)\n",
    "X_test_norm = min_max_scaler.fit_transform(X_test)"
   ]
  },
  {
   "cell_type": "code",
   "execution_count": 108,
   "id": "2bfcc4bc-900d-401b-95e4-9f53e036cd79",
   "metadata": {},
   "outputs": [],
   "source": [
    "model_list = [\n",
    "    (KNeighborsClassifier(), {\"n_neighbors\": [3, 5, 7, 9, 11, 13]}),\n",
    "    (LogisticRegression(), {\"C\": [0.01, 0.1, 1, 10, 100]}),  # Fixed \"C\"\n",
    "    (DecisionTreeClassifier(), {\"max_depth\": [5, 10, 15, 20, 25], \"min_samples_split\": [2, 3, 4, 5, 6]}), \n",
    "    (SVC(), {\"kernel\": [\"linear\", \"rbf\"]})\n",
    "]"
   ]
  },
  {
   "cell_type": "code",
   "execution_count": 110,
   "id": "daef4fd6-bd44-4bc8-bfb6-3631b3c6307c",
   "metadata": {},
   "outputs": [
    {
     "name": "stdout",
     "output_type": "stream",
     "text": [
      "-The best Estimator is KNeighborsClassifier(n_neighbors=7) with a score of 0.9561264822134387\n",
      "-The best Estimator is LogisticRegression(C=100) with a score of 0.9561264822134387\n",
      "-The best Estimator is DecisionTreeClassifier(max_depth=5, min_samples_split=4) with a score of 0.9557312252964426\n",
      "-The best Estimator is SVC(kernel='linear') with a score of 0.9557312252964426\n"
     ]
    }
   ],
   "source": [
    "best_models = []\n",
    "\n",
    "# Loop through models\n",
    "for model_info in model_list: \n",
    "    #print(model_info)\n",
    "    estimator = model_info[0]\n",
    "    params = model_info[1]\n",
    "\n",
    "    # Perform Grid Search\n",
    "    grid_search = GridSearchCV(estimator, params, scoring=\"accuracy\", cv=5)  # Added cv=5 for cross-validation\n",
    "    grid_search.fit(X_train_norm, y_train)\n",
    "\n",
    "    # Print the best model and score\n",
    "    print(f\"-The best Estimator is {grid_search.best_estimator_} with a score of {grid_search.best_score_}\")\n",
    "    \n",
    "    # Store the best model\n",
    "    best_models.append((grid_search.best_estimator_, grid_search.best_score_))"
   ]
  },
  {
   "cell_type": "code",
   "execution_count": 88,
   "id": "835e4c45-8159-4fdb-b232-b21348536200",
   "metadata": {},
   "outputs": [
    {
     "data": {
      "text/plain": [
       "[(KNeighborsClassifier(n_neighbors=7), 0.9561264822134387),\n",
       " (LogisticRegression(C=100), 0.9561264822134387),\n",
       " (DecisionTreeClassifier(max_depth=5, min_samples_split=4),\n",
       "  0.9557312252964426),\n",
       " (SVC(kernel='linear'), 0.9557312252964426)]"
      ]
     },
     "execution_count": 88,
     "metadata": {},
     "output_type": "execute_result"
    }
   ],
   "source": [
    "best_models"
   ]
  },
  {
   "cell_type": "code",
   "execution_count": 104,
   "id": "6ede8423-e500-4739-b40e-ecb909ddcac3",
   "metadata": {},
   "outputs": [
    {
     "name": "stdout",
     "output_type": "stream",
     "text": [
      "KNeighborsClassifier(n_neighbors=7):0.9473684210526315\n",
      "LogisticRegression(C=100):1.0\n",
      "DecisionTreeClassifier(max_depth=5, min_samples_split=4):1.0\n",
      "SVC(kernel='linear'):0.9736842105263158\n"
     ]
    }
   ],
   "source": [
    "for best_model, _ in best_models:  \n",
    "    y_pred = best_model.predict(X_test_norm)\n",
    "    print(f\"{best_model}:{accuracy_score(y_test,y_pred)}\")"
   ]
  },
  {
   "cell_type": "code",
   "execution_count": null,
   "id": "593775a3-39fe-47e4-9cc7-69bdb885b38a",
   "metadata": {},
   "outputs": [],
   "source": []
  }
 ],
 "metadata": {
  "kernelspec": {
   "display_name": "Python [conda env:base] *",
   "language": "python",
   "name": "conda-base-py"
  },
  "language_info": {
   "codemirror_mode": {
    "name": "ipython",
    "version": 3
   },
   "file_extension": ".py",
   "mimetype": "text/x-python",
   "name": "python",
   "nbconvert_exporter": "python",
   "pygments_lexer": "ipython3",
   "version": "3.12.7"
  }
 },
 "nbformat": 4,
 "nbformat_minor": 5
}
